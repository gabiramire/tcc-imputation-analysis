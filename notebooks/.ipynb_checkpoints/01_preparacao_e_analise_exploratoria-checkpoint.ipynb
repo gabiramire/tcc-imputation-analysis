{
 "cells": [
  {
   "cell_type": "code",
   "execution_count": null,
   "id": "262fc30b-a8de-4120-9cfd-1a264a7a6161",
   "metadata": {},
   "outputs": [],
   "source": []
  }
 ],
 "metadata": {
  "kernelspec": {
   "display_name": "Python 3 (ipykernel)",
   "language": "python",
   "name": "python3"
  },
  "language_info": {
   "codemirror_mode": {
    "name": "ipython",
    "version": 3
   },
   "file_extension": ".py",
   "mimetype": "text/x-python",
   "name": "python",
   "nbconvert_exporter": "python",
   "pygments_lexer": "ipython3",
   "version": "3.11.9"
  }
 },
 "nbformat": 4,
 "nbformat_minor": 5
}
